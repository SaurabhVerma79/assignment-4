{
 "cells": [
  {
   "cell_type": "code",
   "execution_count": null,
   "id": "6ed4e752-11d7-438f-bcd1-02d6efd53df0",
   "metadata": {},
   "outputs": [],
   "source": [
    "#qustion1\n",
    "def keyword is used to create a function\n",
    "\n",
    "def odd_num():\n",
    "    l1=[]\n",
    "    for i in range(1,25):\n",
    "        if(i%2!=0):\n",
    "            l1.append(i)\n",
    "    return l1\n",
    "\n",
    "print(odd_num())"
   ]
  },
  {
   "cell_type": "code",
   "execution_count": null,
   "id": "e8f8f26b-f1e0-4a59-b0d0-512ee9d5a6b6",
   "metadata": {},
   "outputs": [],
   "source": [
    "#qustion2\n",
    "You can use *args and **kwargs as arguments of a function when you are\n",
    "unsure about the number of arguments to pass in the functions.\n",
    "*args allows us to pass a variable number of non-keyword arguments to a Python function.\n",
    "In the function, we should use an asterisk (*) before the parameter name to pass\n",
    "a variable number of arguments.\n",
    "\n",
    "def add(*numbers):\n",
    "    total = 0\n",
    "    for num in numbers:\n",
    "        total += num\n",
    "    return total\n",
    "\n",
    "\n",
    "print(add(2, 3))\n",
    "print(add(2, 3, 5))\n",
    "print(add(2, 3, 5, 7))\n",
    "print(add(2, 3, 5, 7, 9))\n",
    "\n",
    "\n",
    "**kwargs allows us to pass a variable number of keyword arguments to a Python function. \n",
    "In the function, we use the double-asterisk (**) before the parameter name to denote this\n",
    "type of argument.\n",
    "\n",
    "def total_fruits(**fruits):\n",
    "    total = 0\n",
    "    for amount in fruits.values():\n",
    "        total += amount\n",
    "    return total\n",
    "\n",
    "\n",
    "print(total_fruits(banana=5, mango=7, apple=8))\n",
    "print(total_fruits(banana=5, mango=7, apple=8, oranges=10))\n",
    "print(total_fruits(banana=5, mango=7))"
   ]
  },
  {
   "cell_type": "code",
   "execution_count": null,
   "id": "f60a9796-b4c2-4198-8df9-d1487b46a2dc",
   "metadata": {},
   "outputs": [],
   "source": [
    "#qustion3\n",
    "Iterator in Python is an object that is used to iterate over iterable objects like lists,\n",
    "tuples, dicts, and sets. The iterator object is initialized using the iter() method. \n",
    "It uses the next() method for iteration.\n",
    "\n",
    "l=[2, 4, 6, 8, 10, 12, 14, 16, 18, 20]\n",
    "count=0\n",
    "for i in l:\n",
    "    if count<5:\n",
    "        print(i)\n",
    "        count+=1"
   ]
  },
  {
   "cell_type": "code",
   "execution_count": null,
   "id": "96125363-0376-4d7d-92a5-76d2f3ddab8a",
   "metadata": {},
   "outputs": [],
   "source": [
    "#qustion4\n",
    "In Python, a generator is a function that returns an iterator that produces \n",
    "a sequence of values when iterated over.\n",
    "Generators are useful when we want to produce a large sequence of values,\n",
    "but we don't want to store all of them in memory at once.\n",
    "def my_generator(n):\n",
    "    value = 0\n",
    "    while value < n:\n",
    "        yield value\n",
    "        value += 1\n",
    "for value in my_generator(3):\n",
    "    print(value)"
   ]
  },
  {
   "cell_type": "code",
   "execution_count": null,
   "id": "1c69ca4f-3ce6-494b-b5a2-4c393a1e1301",
   "metadata": {},
   "outputs": [],
   "source": [
    "#qustion5\n",
    "def primes():\n",
    "    yield 2\n",
    "    primes_list = [2]\n",
    "    for i in range(3, 1000):\n",
    "        is_prime = True\n",
    "        for prime in primes_list:\n",
    "            if i % prime == 0:\n",
    "                is_prime = False\n",
    "                break\n",
    "        if is_prime:\n",
    "            primes_list.append(i)\n",
    "            yield i\n",
    "\n",
    "prime_gen = primes()\n",
    "for i in range(20):\n",
    "    print(next(prime_gen))"
   ]
  },
  {
   "cell_type": "code",
   "execution_count": null,
   "id": "e0baf39c-c936-451b-a224-29ba5cf11254",
   "metadata": {},
   "outputs": [],
   "source": [
    "#qustion6\n",
    "num=10\n",
    "i=1\n",
    "a=0\n",
    "b=1\n",
    "sum=0\n",
    "print(a)\n",
    "print(b)\n",
    "while i<=10:\n",
    "    sum=a+b\n",
    "    print(sum)\n",
    "    a=b\n",
    "    b=sum\n",
    "    i=i+1\n",
    "    "
   ]
  },
  {
   "cell_type": "code",
   "execution_count": 2,
   "id": "390b0993-8031-4338-ae33-c39a5b0464a4",
   "metadata": {},
   "outputs": [],
   "source": [
    "#qustion7\n",
    "string='pwskills'\n",
    "[i for i in string]"
   ]
  },
  {
   "cell_type": "code",
   "execution_count": null,
   "id": "c7cfa72f-14a2-4a3b-9e87-02e17d6f2907",
   "metadata": {},
   "outputs": [],
   "source": [
    "#qustion8\n",
    "num=int(input(\"Enter the value : \"))\n",
    "reverse=0\n",
    "temp=num\n",
    "while temp>0:\n",
    "    remender=temp%10\n",
    "    temp=temp//10\n",
    "    reverse=reverse*10+remender\n",
    "if num==reverse:\n",
    "    print(\"its a pelindrome\")\n",
    "else:\n",
    "    print(\"its not a pelindromes\")"
   ]
  },
  {
   "cell_type": "code",
   "execution_count": 16,
   "id": "e4f5d680-e7ed-4a80-811f-553c4b53b1c0",
   "metadata": {},
   "outputs": [],
   "source": [
    "#qustion9\n",
    "[i for i in range(1,100)  if i%2==1 ]"
   ]
  },
  {
   "cell_type": "code",
   "execution_count": null,
   "id": "1b6c18ac-70a4-44fa-a7bc-562d8df37bb0",
   "metadata": {},
   "outputs": [],
   "source": []
  },
  {
   "cell_type": "code",
   "execution_count": null,
   "id": "f1e6b173-8411-4714-9d03-30928c9fcbf2",
   "metadata": {},
   "outputs": [],
   "source": [
    "\n",
    "        "
   ]
  },
  {
   "cell_type": "code",
   "execution_count": null,
   "id": "8fafd352-6a35-4a3f-bd78-d55f1cb298de",
   "metadata": {},
   "outputs": [],
   "source": [
    "\n",
    "    "
   ]
  },
  {
   "cell_type": "code",
   "execution_count": null,
   "id": "f2a29abb-1c9f-4894-aa61-4f0c0dfcd200",
   "metadata": {},
   "outputs": [],
   "source": []
  },
  {
   "cell_type": "code",
   "execution_count": null,
   "id": "a74ff082-8877-4441-9854-f1efbd766b18",
   "metadata": {},
   "outputs": [],
   "source": []
  },
  {
   "cell_type": "code",
   "execution_count": null,
   "id": "b65057c5-2060-43b2-bd33-2f8a7699952c",
   "metadata": {},
   "outputs": [],
   "source": []
  },
  {
   "cell_type": "code",
   "execution_count": null,
   "id": "2135b1ec-00f1-4d97-aad6-98c506fc7261",
   "metadata": {},
   "outputs": [],
   "source": []
  }
 ],
 "metadata": {
  "kernelspec": {
   "display_name": "Python 3 (ipykernel)",
   "language": "python",
   "name": "python3"
  },
  "language_info": {
   "codemirror_mode": {
    "name": "ipython",
    "version": 3
   },
   "file_extension": ".py",
   "mimetype": "text/x-python",
   "name": "python",
   "nbconvert_exporter": "python",
   "pygments_lexer": "ipython3",
   "version": "3.10.8"
  }
 },
 "nbformat": 4,
 "nbformat_minor": 5
}
